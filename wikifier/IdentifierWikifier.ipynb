{
 "cells": [
  {
   "cell_type": "markdown",
   "metadata": {},
   "source": [
    "### import packages"
   ]
  },
  {
   "cell_type": "code",
   "execution_count": 5,
   "metadata": {},
   "outputs": [],
   "source": [
    "import pandas as pd\n",
    "import sys\n",
    "sys.path.append(\"/Users/tong/Desktop/ISI/SPARQL/\")\n",
    "import find_identity\n",
    "import numpy as np"
   ]
  },
  {
   "cell_type": "markdown",
   "metadata": {},
   "source": [
    "### read data from .csv file, transfer them to DataFrame"
   ]
  },
  {
   "cell_type": "code",
   "execution_count": 6,
   "metadata": {},
   "outputs": [
    {
     "data": {
      "text/html": [
       "<div>\n",
       "<style scoped>\n",
       "    .dataframe tbody tr th:only-of-type {\n",
       "        vertical-align: middle;\n",
       "    }\n",
       "\n",
       "    .dataframe tbody tr th {\n",
       "        vertical-align: top;\n",
       "    }\n",
       "\n",
       "    .dataframe thead th {\n",
       "        text-align: right;\n",
       "    }\n",
       "</style>\n",
       "<table border=\"1\" class=\"dataframe\">\n",
       "  <thead>\n",
       "    <tr style=\"text-align: right;\">\n",
       "      <th></th>\n",
       "      <th>d3mIndex</th>\n",
       "      <th>FIPS</th>\n",
       "      <th>State</th>\n",
       "      <th>Area</th>\n",
       "      <th>RUCCode</th>\n",
       "      <th>POVALL_2016</th>\n",
       "    </tr>\n",
       "  </thead>\n",
       "  <tbody>\n",
       "    <tr>\n",
       "      <th>0</th>\n",
       "      <td>0</td>\n",
       "      <td>35005</td>\n",
       "      <td>NM</td>\n",
       "      <td>Chaves County</td>\n",
       "      <td>5</td>\n",
       "      <td>13974</td>\n",
       "    </tr>\n",
       "    <tr>\n",
       "      <th>1</th>\n",
       "      <td>1</td>\n",
       "      <td>13297</td>\n",
       "      <td>GA</td>\n",
       "      <td>Walton County</td>\n",
       "      <td>1</td>\n",
       "      <td>11385</td>\n",
       "    </tr>\n",
       "    <tr>\n",
       "      <th>2</th>\n",
       "      <td>2</td>\n",
       "      <td>13137</td>\n",
       "      <td>GA</td>\n",
       "      <td>Habersham County</td>\n",
       "      <td>6</td>\n",
       "      <td>6500</td>\n",
       "    </tr>\n",
       "    <tr>\n",
       "      <th>3</th>\n",
       "      <td>3</td>\n",
       "      <td>54017</td>\n",
       "      <td>WV</td>\n",
       "      <td>Doddridge County</td>\n",
       "      <td>9</td>\n",
       "      <td>1460</td>\n",
       "    </tr>\n",
       "    <tr>\n",
       "      <th>4</th>\n",
       "      <td>4</td>\n",
       "      <td>55055</td>\n",
       "      <td>WI</td>\n",
       "      <td>Jefferson County</td>\n",
       "      <td>4</td>\n",
       "      <td>7618</td>\n",
       "    </tr>\n",
       "  </tbody>\n",
       "</table>\n",
       "</div>"
      ],
      "text/plain": [
       "   d3mIndex   FIPS State              Area  RUCCode  POVALL_2016\n",
       "0         0  35005    NM     Chaves County        5        13974\n",
       "1         1  13297    GA     Walton County        1        11385\n",
       "2         2  13137    GA  Habersham County        6         6500\n",
       "3         3  54017    WV  Doddridge County        9         1460\n",
       "4         4  55055    WI  Jefferson County        4         7618"
      ]
     },
     "execution_count": 6,
     "metadata": {},
     "output_type": "execute_result"
    }
   ],
   "source": [
    "data = pd.read_csv('./learningData.csv')\n",
    "df = pd.DataFrame(data)\n",
    "df.head()"
   ]
  },
  {
   "cell_type": "markdown",
   "metadata": {},
   "source": [
    "### Input FIPS and State(2&3 column in file), find \"PNode\", output their \"QNode\""
   ]
  },
  {
   "cell_type": "code",
   "execution_count": 15,
   "metadata": {},
   "outputs": [],
   "source": [
    "for column in df.columns[2:3]:\n",
    "    curData = [str(x) for x in list(df[column])]\n",
    "    for i in range(len(curData)):\n",
    "        if len(curData[i]) == 4:\n",
    "            curData[i] = '0' + curData[i]\n",
    "    f = find_identity.find_identity()\n",
    "    for idx,res in enumerate(f.get_identifier_3(curData)):\n",
    "        top1_dict=res[1]\n",
    "        new_col = []\n",
    "        for i in range(len(curData)):\n",
    "            if curData[i] in top1_dict:\n",
    "                new_col.append(top1_dict[curData[i]])\n",
    "            else:\n",
    "                new_col.append('')\n",
    "        col_name = column+'_wikidata'\n",
    "        df[col_name] = new_col\n",
    "        break"
   ]
  },
  {
   "cell_type": "code",
   "execution_count": 16,
   "metadata": {},
   "outputs": [
    {
     "data": {
      "text/html": [
       "<div>\n",
       "<style scoped>\n",
       "    .dataframe tbody tr th:only-of-type {\n",
       "        vertical-align: middle;\n",
       "    }\n",
       "\n",
       "    .dataframe tbody tr th {\n",
       "        vertical-align: top;\n",
       "    }\n",
       "\n",
       "    .dataframe thead th {\n",
       "        text-align: right;\n",
       "    }\n",
       "</style>\n",
       "<table border=\"1\" class=\"dataframe\">\n",
       "  <thead>\n",
       "    <tr style=\"text-align: right;\">\n",
       "      <th></th>\n",
       "      <th>d3mIndex</th>\n",
       "      <th>FIPS</th>\n",
       "      <th>State</th>\n",
       "      <th>Area</th>\n",
       "      <th>RUCCode</th>\n",
       "      <th>POVALL_2016</th>\n",
       "      <th>FIPS_wikidata</th>\n",
       "      <th>State_wikidata</th>\n",
       "    </tr>\n",
       "  </thead>\n",
       "  <tbody>\n",
       "    <tr>\n",
       "      <th>0</th>\n",
       "      <td>0</td>\n",
       "      <td>35005</td>\n",
       "      <td>NM</td>\n",
       "      <td>Chaves County</td>\n",
       "      <td>5</td>\n",
       "      <td>13974</td>\n",
       "      <td>Q111245</td>\n",
       "      <td>Q1522</td>\n",
       "    </tr>\n",
       "    <tr>\n",
       "      <th>1</th>\n",
       "      <td>1</td>\n",
       "      <td>13297</td>\n",
       "      <td>GA</td>\n",
       "      <td>Walton County</td>\n",
       "      <td>1</td>\n",
       "      <td>11385</td>\n",
       "      <td>Q498312</td>\n",
       "      <td>Q1428</td>\n",
       "    </tr>\n",
       "    <tr>\n",
       "      <th>2</th>\n",
       "      <td>2</td>\n",
       "      <td>13137</td>\n",
       "      <td>GA</td>\n",
       "      <td>Habersham County</td>\n",
       "      <td>6</td>\n",
       "      <td>6500</td>\n",
       "      <td>Q501096</td>\n",
       "      <td>Q1428</td>\n",
       "    </tr>\n",
       "    <tr>\n",
       "      <th>3</th>\n",
       "      <td>3</td>\n",
       "      <td>54017</td>\n",
       "      <td>WV</td>\n",
       "      <td>Doddridge County</td>\n",
       "      <td>9</td>\n",
       "      <td>1460</td>\n",
       "      <td>Q494081</td>\n",
       "      <td>Q1371</td>\n",
       "    </tr>\n",
       "    <tr>\n",
       "      <th>4</th>\n",
       "      <td>4</td>\n",
       "      <td>55055</td>\n",
       "      <td>WI</td>\n",
       "      <td>Jefferson County</td>\n",
       "      <td>4</td>\n",
       "      <td>7618</td>\n",
       "      <td>Q500958</td>\n",
       "      <td>Q1537</td>\n",
       "    </tr>\n",
       "  </tbody>\n",
       "</table>\n",
       "</div>"
      ],
      "text/plain": [
       "   d3mIndex   FIPS State              Area  RUCCode  POVALL_2016  \\\n",
       "0         0  35005    NM     Chaves County        5        13974   \n",
       "1         1  13297    GA     Walton County        1        11385   \n",
       "2         2  13137    GA  Habersham County        6         6500   \n",
       "3         3  54017    WV  Doddridge County        9         1460   \n",
       "4         4  55055    WI  Jefferson County        4         7618   \n",
       "\n",
       "  FIPS_wikidata State_wikidata  \n",
       "0       Q111245          Q1522  \n",
       "1       Q498312          Q1428  \n",
       "2       Q501096          Q1428  \n",
       "3       Q494081          Q1371  \n",
       "4       Q500958          Q1537  "
      ]
     },
     "execution_count": 16,
     "metadata": {},
     "output_type": "execute_result"
    }
   ],
   "source": [
    "df.head()"
   ]
  },
  {
   "cell_type": "markdown",
   "metadata": {},
   "source": [
    "### Save new DataFrame into .csv file"
   ]
  },
  {
   "cell_type": "code",
   "execution_count": 17,
   "metadata": {},
   "outputs": [],
   "source": [
    "df.to_csv('./learningData_wikify.csv')"
   ]
  },
  {
   "cell_type": "code",
   "execution_count": 8,
   "metadata": {},
   "outputs": [],
   "source": [
    "import json, requests\n",
    "def call_redis(qnodes):\n",
    "    payload = json.dumps({\"ids\": qnodes})\n",
    "    search_headers = {'Accept': 'application/json', 'Content-Type': 'application/json'}\n",
    "    r = requests.post(\"http://minds03.isi.edu:4444/get_identifiers\",\n",
    "        data=payload,headers=search_headers)\n",
    "    if r:\n",
    "        val = r.json()\n",
    "        return val\n",
    "    else:\n",
    "        return {}"
   ]
  },
  {
   "cell_type": "code",
   "execution_count": 26,
   "metadata": {},
   "outputs": [
    {
     "data": {
      "text/plain": [
       "{'25145adfadf': []}"
      ]
     },
     "execution_count": 26,
     "metadata": {},
     "output_type": "execute_result"
    }
   ],
   "source": [
    "f.call_redis(['25145adfadf'])"
   ]
  },
  {
   "cell_type": "code",
   "execution_count": 37,
   "metadata": {},
   "outputs": [
    {
     "name": "stdout",
     "output_type": "stream",
     "text": [
      "False\n",
      "True\n"
     ]
    }
   ],
   "source": [
    "print(\"四\".isdigit())\n",
    "print(\"四\".isnumeric())"
   ]
  },
  {
   "cell_type": "code",
   "execution_count": 7,
   "metadata": {},
   "outputs": [
    {
     "data": {
      "text/html": [
       "<div>\n",
       "<style scoped>\n",
       "    .dataframe tbody tr th:only-of-type {\n",
       "        vertical-align: middle;\n",
       "    }\n",
       "\n",
       "    .dataframe tbody tr th {\n",
       "        vertical-align: top;\n",
       "    }\n",
       "\n",
       "    .dataframe thead th {\n",
       "        text-align: right;\n",
       "    }\n",
       "</style>\n",
       "<table border=\"1\" class=\"dataframe\">\n",
       "  <thead>\n",
       "    <tr style=\"text-align: right;\">\n",
       "      <th></th>\n",
       "      <th>county</th>\n",
       "    </tr>\n",
       "  </thead>\n",
       "  <tbody>\n",
       "    <tr>\n",
       "      <th>0</th>\n",
       "      <td>Autauga</td>\n",
       "    </tr>\n",
       "    <tr>\n",
       "      <th>1</th>\n",
       "      <td>Baldwin</td>\n",
       "    </tr>\n",
       "    <tr>\n",
       "      <th>2</th>\n",
       "      <td>Bibb</td>\n",
       "    </tr>\n",
       "    <tr>\n",
       "      <th>3</th>\n",
       "      <td>Blount</td>\n",
       "    </tr>\n",
       "    <tr>\n",
       "      <th>4</th>\n",
       "      <td>Calhoun</td>\n",
       "    </tr>\n",
       "  </tbody>\n",
       "</table>\n",
       "</div>"
      ],
      "text/plain": [
       "    county\n",
       "0  Autauga\n",
       "1  Baldwin\n",
       "2     Bibb\n",
       "3   Blount\n",
       "4  Calhoun"
      ]
     },
     "execution_count": 7,
     "metadata": {},
     "output_type": "execute_result"
    }
   ],
   "source": [
    "data = pd.read_csv('./SPARQL/Book1.csv')\n",
    "df = pd.DataFrame(data)\n",
    "df.head()"
   ]
  },
  {
   "cell_type": "code",
   "execution_count": 21,
   "metadata": {},
   "outputs": [],
   "source": [
    "f = find_identity.find_identity()\n",
    "input_list = [x + ' County' for x in list(df['county'])]"
   ]
  },
  {
   "cell_type": "code",
   "execution_count": 22,
   "metadata": {},
   "outputs": [
    {
     "data": {
      "text/plain": [
       "[]"
      ]
     },
     "execution_count": 22,
     "metadata": {},
     "output_type": "execute_result"
    }
   ],
   "source": [
    "f.get_identifier_3(input_list)"
   ]
  },
  {
   "cell_type": "code",
   "execution_count": 27,
   "metadata": {},
   "outputs": [
    {
     "data": {
      "text/plain": [
       "{'35005': ['P6018/Q4129587',\n",
       "  'P5573/Q982388',\n",
       "  'P1711/Q609328',\n",
       "  'P354/Q18064475',\n",
       "  'P590/Q49173306',\n",
       "  'P374/Q193614',\n",
       "  'P1567/Q815948',\n",
       "  'P1415/Q458169',\n",
       "  'P3856/Q3344602',\n",
       "  'P5383/Q6498073',\n",
       "  'P4125/Q14799387',\n",
       "  'P4282/Q1144479',\n",
       "  'P5534/Q715318',\n",
       "  'P3064/Q15652559',\n",
       "  'P830/Q10303893',\n",
       "  'P4104/Q514583',\n",
       "  'P1274/Q17110701',\n",
       "  'P4231/Q5011668',\n",
       "  'P351/Q29711799',\n",
       "  'P3500/Q482819',\n",
       "  'P3844/Q2742237',\n",
       "  'P683/Q27887626',\n",
       "  'P2574/Q5412880',\n",
       "  'P1566/Q5726434',\n",
       "  'P1005/Q566851',\n",
       "  'P3151/Q2784264',\n",
       "  'P2604/Q142546',\n",
       "  'P359/Q2522373',\n",
       "  'P815/Q4919655',\n",
       "  'P2529/Q16761393',\n",
       "  'P4129/Q43015119',\n",
       "  'P5736/Q6750143',\n",
       "  'P5032/Q786222',\n",
       "  'P1265/Q744562',\n",
       "  'P5263/Q652488',\n",
       "  'P1058/Q15760023',\n",
       "  'P4327/Q51452752',\n",
       "  'P698/Q39245567',\n",
       "  'P377/Q2825584',\n",
       "  'P1938/Q2445355',\n",
       "  'P1969/Q3148114',\n",
       "  'P882/Q111245',\n",
       "  'P842/Q5414047',\n",
       "  'P1970/Q7722681',\n",
       "  'P685/Q819220',\n",
       "  'P2603/Q7990507',\n",
       "  'P772/Q706892',\n",
       "  'P2099/Q7301938',\n",
       "  'P902/Q47010462']}"
      ]
     },
     "execution_count": 27,
     "metadata": {},
     "output_type": "execute_result"
    }
   ],
   "source": [
    "list(df['county'])\n",
    "f.call_redis(['35005'])"
   ]
  },
  {
   "cell_type": "code",
   "execution_count": 28,
   "metadata": {},
   "outputs": [
    {
     "data": {
      "text/plain": [
       "['Autauga County',\n",
       " 'Baldwin County',\n",
       " 'Bibb County',\n",
       " 'Blount County',\n",
       " 'Calhoun County',\n",
       " 'Chilton County',\n",
       " 'Elmore County',\n",
       " 'Etowah County',\n",
       " 'Geneva County',\n",
       " 'Hale County']"
      ]
     },
     "execution_count": 28,
     "metadata": {},
     "output_type": "execute_result"
    }
   ],
   "source": [
    "input_list[:10]"
   ]
  },
  {
   "cell_type": "code",
   "execution_count": null,
   "metadata": {},
   "outputs": [],
   "source": []
  }
 ],
 "metadata": {
  "kernelspec": {
   "display_name": "Python 3",
   "language": "python",
   "name": "python3"
  },
  "language_info": {
   "codemirror_mode": {
    "name": "ipython",
    "version": 3
   },
   "file_extension": ".py",
   "mimetype": "text/x-python",
   "name": "python",
   "nbconvert_exporter": "python",
   "pygments_lexer": "ipython3",
   "version": "3.6.4"
  }
 },
 "nbformat": 4,
 "nbformat_minor": 2
}
